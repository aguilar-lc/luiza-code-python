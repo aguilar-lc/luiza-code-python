{
 "cells": [
  {
   "cell_type": "markdown",
   "metadata": {},
   "source": [
    "### Módulo 06 - Framework\n",
    "\n",
    "#### Módulos:\n",
    "\n",
    "Módulos em python, são arquivos python com extensão .py, que implementam um conjunto de funções. Para importar um módulo dentro do script, utiliza-se o comando \"import\"\n",
    "\n",
    "    Exemplo: import math\n",
    "    -> importando math que  trata-se de um módulo de matemática\n",
    "\n",
    "Também é possível importar funcionalidades específicas de um módulo, para isso, utiliza-se o comento \"from\"\n",
    "\n",
    "    Exemplo: from math import sqrt\n",
    "    -> importando a funcionalidade raiz quadrada(sqrt) do módulo de matemática(math)\n",
    "\n",
    "É possível também importar mais de uma funcionalidade do módulo\n",
    "\n",
    "    Exemplo: from math import sqrt, pow\n",
    "    -> importando a funcionalidade raiz quadrada(sqrt) e potenciação(pow) do módulo de matemática(math)\n",
    "\n",
    "\n",
    "#### Pacotes:\n",
    "\n",
    "Pacotes são uma forma de estruturar os módulos python, ou seja, o pacote é um conjunto de módulos python.\n",
    "Enquanto o módulo é um único arquivo python, um pacote é um diretório de módulos python contendo um arquivo.\n",
    "\n",
    "    __init__.py\n",
    "\n",
    "\n",
    "#### Bibliotecas:\n",
    "\n",
    "Existem diversos módulos e pacotes do python criados por desenvolvedores ao redor do mundo e disponíveis em bibliotecas.\n",
    "\n",
    "#### API\n",
    "\n",
    "API (Application Programming Interface) é um conjunto de normas que possibilita a comunicação entre plataformas através de uma série de padrões e protocolos. Por exemplo, existe uma API que faz a comunicação entre o Instagram e o Spotfy que possibilita compartilhar faixas nos Stories.\n",
    "\n",
    "#### REST\n",
    "\n",
    "Essencialmente, Rest é Representational State Transfer que, em português, é “Transferência de Estado Representacional”. E um conjunto de restrições para aplicações Web (Red Hat).\n",
    "\n",
    "#### API REST\n",
    "Temos também a junção entre API e REST, ou seja a API REST que é um Conjunto de restrições e normas para comunicação entre sistemas HTTP(s)/Web.\n",
    "\n",
    "#### Frameworks em Python\n",
    "Os frameworks são bibliotecas para desenvolvimento rápido para Web (API REST)\n",
    "Alguns exemplos de frameworks: Django, Flask, FastAPI, aiohttp\n",
    "\n",
    "#### Portas TCP\n",
    "● Um servidor pode ter vários serviços rodando nele.\n",
    "● O endereço do servidor é composto por IP + Porta.\n",
    "● Porta está associada a um serviço rodando no servidor.\n",
    "● localhost = 127.0.0.1\n",
    "\n",
    "Exemplo\n",
    "127.0.0.1:8000\n",
    "\n",
    "#### Bibliotecas usadas pelo framework FastAPI\n",
    "● uvicorn\n",
    "○ ASGI (Asynchronous Server Gateway Interface)\n",
    "\n",
    "● Utiliza Pydantic.\n",
    "○ Serialização.\n",
    "\n",
    "#### Métodos HTTP\n",
    "- *GET: O método GET solicita a representação de um recurso específico. Requisições utilizando o método GET devem retornar apenas dados.*\n",
    "- *HEAD: O método HEAD solicita uma resposta de forma idêntica ao método GET, porém sem conter o corpo da resposta.*\n",
    "- *POST: O método POST é utilizado para submeter uma entidade a um recurso específico, frequentemente causando uma mudança no estado do recurso ou efeitos colaterais no servidor.*\n",
    "- *PUT: O método PUT substitui todas as atuais representações do recurso de destino pela carga de dados da requisição.*\n",
    "- *DELETE: O método DELETE remove um recurso específico.*\n",
    "- *OPTIONS: O método OPTIONS é usado para descrever as opções de comunicação com o recurso de destino.*"
   ]
  }
 ],
 "metadata": {
  "kernelspec": {
   "display_name": "Python 3.8.3 ('base')",
   "language": "python",
   "name": "python3"
  },
  "language_info": {
   "codemirror_mode": {
    "name": "ipython",
    "version": 3
   },
   "file_extension": ".py",
   "mimetype": "text/x-python",
   "name": "python",
   "nbconvert_exporter": "python",
   "pygments_lexer": "ipython3",
   "version": "3.8.3"
  },
  "vscode": {
   "interpreter": {
    "hash": "e06ff7da33dc9620448857a90ad8b5f428f0d573d205a934d2841c8aee45ea32"
   }
  }
 },
 "nbformat": 4,
 "nbformat_minor": 4
}
