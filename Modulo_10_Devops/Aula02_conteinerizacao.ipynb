{
 "cells": [
  {
   "cell_type": "markdown",
   "metadata": {},
   "source": [
    "# Aula 01 - Conteinerização\n",
    "\n",
    "\n",
    "### 1 - Conteinerização:\n",
    "Conteinerização é o empacotamento do código de software com todos os componentes necessários, como bibliotecas, frameworks e outras dependências, para que fiquem isolados em seu próprio \"container\". Como vantagem, é possível migrar e executar o software ou a aplicação no container de forma consistente em qualquer ambiente e nfraestrutura, independentemente do sistema operacional. O container desempenha o papel de uma espécie de bolha ou ambiente computacional em torno da aplicação, mantendo-a independente do restante. Basicamente, trata-se de um ambiente computacional totalmente funcional e portátil.\n",
    "\n",
    "### 3 - Onde o conteiner é executado?\n",
    "- O sistema operacional que está na máquina será o hospedeiro do cointeineir, se utilizarmos o Dokcer por exemplo,\n",
    "ele estará sobre o sistema hospedeiro.\n",
    "\n",
    "### 4 - Composição de conteineres:\n",
    "Utilizando o Docker e o mongo, essa seria estrutura:\n",
    "- docker run mongo\n",
    "- docker run redis\n",
    "- docker run minha-app\n",
    "\n",
    "O Docker disponibiliza um facilitador que se chama docker-compose.yml(compisição de conteineres), a partir desse arquivo conseguimos especificar quais sao as dependencias da nossa aplicação, ou seja o que precisa ser executado para o funcionamento da aplicação e em que ordem cada etapa que será executada.\n",
    "\n",
    "### 5 - Orquestração de conteineres:\n",
    "- Orquestração é a automação da implantação, do gerenciamento, do escalonamento e da rede dos containers.\n",
    "O Kubernetes é uma plataforma open source de orquestração de containers que ajuda gerenciar aplicações em containers distribuídas em uma escala imensa. Basta informar ao Kubernetes onde você quer que o software seja executado, e a plataforma cuida de quase tudo o que é necessário para implantar e gerenciar os containers.\n",
    "\n",
    "Vantagem: um conteiner é fácilmente descartado e criado novamente."
   ]
  }
 ],
 "metadata": {
  "kernelspec": {
   "display_name": "Python 3",
   "language": "python",
   "name": "python3"
  },
  "language_info": {
   "codemirror_mode": {
    "name": "ipython",
    "version": 3
   },
   "file_extension": ".py",
   "mimetype": "text/x-python",
   "name": "python",
   "nbconvert_exporter": "python",
   "pygments_lexer": "ipython3",
   "version": "3.8.3"
  },
  "vscode": {
   "interpreter": {
    "hash": "14a0c4a2831a82cb54314678e12da0430e1133840210dfd38ce57f151299606f"
   }
  }
 },
 "nbformat": 4,
 "nbformat_minor": 4
}
