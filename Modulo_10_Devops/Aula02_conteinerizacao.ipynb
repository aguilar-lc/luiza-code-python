{
 "cells": [
  {
   "cell_type": "markdown",
   "metadata": {},
   "source": [
    "# Aula 01 - Conteinerização\n",
    "\n",
    "\n",
    "### 1 - Conteinerização:\n",
    "-\n",
    "\n",
    "### 2 - Como executar e implantar minha aplicação de forma padronizada?\n",
    "- \n",
    "\n",
    "### 3 - Onde o contêinoer é executado?\n",
    "- \n",
    "\n",
    "### 4 - Composição de contêineres:\n",
    "- \n",
    "\n",
    "### 5 - Orquestração de contêineres:\n",
    "-"
   ]
  }
 ],
 "metadata": {
  "kernelspec": {
   "display_name": "Python 3.8.3 ('venv': venv)",
   "language": "python",
   "name": "python3"
  },
  "language_info": {
   "codemirror_mode": {
    "name": "ipython",
    "version": 3
   },
   "file_extension": ".py",
   "mimetype": "text/x-python",
   "name": "python",
   "nbconvert_exporter": "python",
   "pygments_lexer": "ipython3",
   "version": "3.8.3"
  },
  "vscode": {
   "interpreter": {
    "hash": "c53194986d6f1e047c2f502df018c1453f54158895d74cc2c241a52a4b7baf4d"
   }
  }
 },
 "nbformat": 4,
 "nbformat_minor": 4
}
