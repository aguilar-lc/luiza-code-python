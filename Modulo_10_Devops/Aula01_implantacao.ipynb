{
 "cells": [
  {
   "cell_type": "markdown",
   "metadata": {},
   "source": [
    "# Aula 01 - Implantação\n",
    "\n",
    "\n",
    "### 1 - Devops:\n",
    "A palavra \"DevOps\" é a combinação dos termos \"desenvolvimento\" e \"operações\". Trata-se de uma metodologia de trabalho que descreve descreve abordagens que ajudam a acelerar os processos necessários para levar uma ideia do desenvolvimento à implantação em um ambiente de produção no qual ela seja capaz de gerar valor para o usuário. Essas ideias podem ser um novo recurso de software, uma solicitação de aprimoramento ou uma correção de bug, entre outros. Essas abordagens exigem comunicação frequente entre as equipes de desenvolvimento e operações, trabalho colaborativo e empatia com os demais \n",
    "membros das equipes.\n",
    "\n",
    "### 2 - Implantação:\n",
    "- Implantação (deploy) é o processo de disponibilizar a aplicação em um ambiente que será usado pelos usuários.\n",
    "\n",
    "### 3 - Reversão:\n",
    "- Reversão (rollback) é o processo de desfazer a implantação atual da aplicação\n",
    "\n",
    "### 4 - Ambientes da implantação:\n",
    "- Desenvolvimento (Development)\n",
    "- Homologação (Testing)\n",
    "- Pré-produção (Staging)\n",
    "- Produção (Production)\n",
    "\n",
    "###   5 - On-Premise (No local) x Off-Premise (Fora do local)\n",
    "- On-Premise -> infraestrutura no local)\n",
    "- Off-Premise -> infraestrura fora do local ou na nuvem.\n",
    "    \n",
    "### Dos serviços Off-Premisse, temos:\n",
    "- Servidor virtual privado (VPS)-> máquina virtual para instalação da aplicação)\n",
    "- Plataforma de contêineres -> plataforma para execução de contêineres.\n",
    "\n",
    "### 6 - Escalamento vertical x escalamento horizontal:\n",
    "- Vertical: Inserir mais poder de processamento na máquina, ou substituir a máquina por uma com maior processamento.\n",
    "- Horizontal: Adicionar novas máquinas para dividir a carga de processamento entre elas.\n",
    "\n",
    "###   7 - Qual serviço escolher entre VPS e Contêineres?\n",
    "- Depende da necessidade, alguns pontos a serem considerados:\n",
    "      \n",
    "      - VPS:\n",
    "        - Você cuida da manutenção da máquina virtual e de sua aplicação\n",
    "        - Escalamento vertical\n",
    "        - Funcionam bem para páginas web e aplicações com poucos acessos\n",
    "        \n",
    "      - Contêineres:\n",
    "        - Você cuida apenas da manutenção de sua aplicação\n",
    "        - Escalamento horizontal\n",
    "        - São indicados principalmente para aplicações com um alto volume de acessos"
   ]
  }
 ],
 "metadata": {
  "kernelspec": {
   "display_name": "Python 3",
   "language": "python",
   "name": "python3"
  },
  "language_info": {
   "codemirror_mode": {
    "name": "ipython",
    "version": 3
   },
   "file_extension": ".py",
   "mimetype": "text/x-python",
   "name": "python",
   "nbconvert_exporter": "python",
   "pygments_lexer": "ipython3",
   "version": "3.8.3"
  },
  "vscode": {
   "interpreter": {
    "hash": "14a0c4a2831a82cb54314678e12da0430e1133840210dfd38ce57f151299606f"
   }
  }
 },
 "nbformat": 4,
 "nbformat_minor": 4
}
