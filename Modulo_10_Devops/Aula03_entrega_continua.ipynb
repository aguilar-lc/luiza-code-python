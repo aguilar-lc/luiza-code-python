{
 "cells": [
  {
   "cell_type": "markdown",
   "metadata": {},
   "source": [
    "# Aula 03 - Entrega Contínua\n",
    "\n",
    "### 1 - Entrega contínua:\n",
    "Entrega contínua (CD) é uma abordagem que prevê ciclos curtos de entrega de softwares, por exemplo. Assim, eles são lançados a qualquer momento e de forma confiável.Todo o processo até a aplicação chegar em produção é automatizado. Para isso criamos um pipeline (uma esteira).\n",
    "\n",
    "### 2 - Integração contínua (CI):\n",
    "Integração contínua (CI) é a prática de sempre manter o código atualizado em um repositório central e com automações para manter sua qualidade.\n",
    "\n",
    "### 3 - Integração contínua (Continuous Integration/CI) x Entrega contínua (Continuous Delivery/CD)\n"
   ]
  }
 ],
 "metadata": {
  "kernelspec": {
   "display_name": "Python 3.8.3 ('venv': venv)",
   "language": "python",
   "name": "python3"
  },
  "language_info": {
   "codemirror_mode": {
    "name": "ipython",
    "version": 3
   },
   "file_extension": ".py",
   "mimetype": "text/x-python",
   "name": "python",
   "nbconvert_exporter": "python",
   "pygments_lexer": "ipython3",
   "version": "3.8.3"
  },
  "vscode": {
   "interpreter": {
    "hash": "14a0c4a2831a82cb54314678e12da0430e1133840210dfd38ce57f151299606f"
   }
  }
 },
 "nbformat": 4,
 "nbformat_minor": 4
}
