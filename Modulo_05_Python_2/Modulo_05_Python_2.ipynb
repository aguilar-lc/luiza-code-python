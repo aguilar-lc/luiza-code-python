{
 "cells": [
  {
   "cell_type": "markdown",
   "metadata": {},
   "source": [
    "## Módulo 3 - Python 1\n",
    "\n",
    "### **Programação Orientada a Objetos**"
   ]
  },
  {
   "cell_type": "markdown",
   "metadata": {},
   "source": [
    "A orientação de objetos é um modelo de análise, projeto e programação de sistemas de software baseada na composição e interação entre diversas unidades de software chamada objetos.\n",
    "A Programação Orientada a Objetos (POO), foi criada para tentar aproximar o mundo real e o mundo virtual. A ideia fundamental é tentar simular o mundo real dentro do computador."
   ]
  },
  {
   "cell_type": "markdown",
   "metadata": {},
   "source": [
    "#### Programação Orientada a Objetos x Programação Estruturada\n",
    "\n",
    "A programação orientada a objetos é um modelo de programação onde diversas classes possuem características que definem um objeto na vida real. Cada classe determina o comportamento do objeto definido por métodos e seus estados possíveis definidos por atributos. Já a programação estruturada é que um programa pode ser divido em três partes que se interligam: sequência, seleção e iteração.\n",
    "\n",
    "- *Sequência*: Na sequência são implementados os passos de processamento necessários para descrever determinada funcionalidade.\n",
    "\n",
    "- *Seleção*: Na seleção o fluxo a ser percorrido depende de uma escolha onde existem duas formas básicas para essa escolha: \n",
    "A primeira é através do condicional “Se”, onde se uma determinada condição for satisfatória o fluxo a ser corrido é um e, caso contrário, o fluxo passa a ser outro. A outra forma de escolha é onde o número de condições se estende a serem avaliadas.\n",
    "\n",
    "- *Iteração*: Na iteração é permitido a execução de instruções de forma repetida, onde ao fim de cada execução a condição é reavaliada e enquanto seja verdadeira a execução de parte do programa continua.\n",
    "\n"
   ]
  },
  {
   "cell_type": "markdown",
   "metadata": {},
   "source": [
    "#### Vantagens da Programação Orientada a Objetos:\n",
    "\n",
    "- *Confiabilidade*: O isolamento entre as partes gera um software seguro. Ao alterar uma parte, nenhuma outra é afetada;\n",
    "- *Oportunidad*e: Ao dividir em partes, várias delas podem ser desenvolvidas em paralelo;\n",
    "- *Manutenção*: Atualizar um software é mais fácil. Uma pequena modificação vai beneficiar todas as partes que usarem o objeto;\n",
    "- *Extensível*: O software não é estático. Ele deve crescer para permanecer útil;\n",
    "- *Reutilizável*: Pode-se usar os objetos de um sistema criado em outro sistema futuro.\n",
    "- *Natural*: Mais fácil de entender. Pode-se focar mais na funcionalidade do que nos detalhes de implementação."
   ]
  },
  {
   "cell_type": "markdown",
   "metadata": {},
   "source": [
    "#### Objetos\n",
    "Um objeto é uma coisa material ou abstrata que pode ser percebida pelos sentidos e descrita por meio das seus atributos(características, propriedades, dados), métodos(comportamento, procedimentos, rotinas internas) e estado atual(características atuais, do momento da análise do objeto).\n",
    "\n",
    "Exemplo - Objeto computador:\n",
    "\n",
    "- *Atributos*: marca, memoria ram, placa de video (coisa que o objeto tem)\n",
    "- *Métodos*: ligar, desligar, exibir informações (coisas que o objeto faz)\n",
    "- *Estado*: ligado, exibindo informações (como o objeto está agora)\n",
    "\n",
    "Todo objeto é gerado a partir de uma classe, ou seja um molde."
   ]
  },
  {
   "cell_type": "markdown",
   "metadata": {},
   "source": [
    "#### Classes\n",
    "A classe é uma estrutura básica do paradgma de orientação a objetos. Trata-se de um modelo a partir de onde os objetos são criados, ou seja, um template que define a natureza de um futuro objeto. A partir de classes, nós construímos instâncias e cada instância é um objeto.\n",
    "\n",
    "- Definindo uma classe:\n",
    "Todas as definições de classe começam com a palavra-chave class, que é seguida pelo nome da classe com a primeira letra em maiúsculo e dois pontos. Qualquer código recuado abaixo da definição da classe é considerado parte do corpo da classe.\n",
    "\n",
    "- Instancia:\n",
    "Instanciar é quando um objeto é criado a partir de uma classe\n",
    "\n",
    "- Construtor:\n",
    "Para que sejam definidos os atributos de um objeto, esses atributos precisam estar dentro de um método: __init__(), o que chamamos de construtor. O método __init__() vai definir o estado inicial do objeto atribuindo os valores das\n",
    "propriedades do objeto.\n",
    "\n",
    "Outro construtor importante é o self, é usado para chamar atributos e métodos dentro da própria classe. Nos atributos o self vem antes dos parâmetros e nos métodos o self vem após o método e dentro de ()\n"
   ]
  },
  {
   "cell_type": "code",
   "execution_count": 37,
   "metadata": {},
   "outputs": [
    {
     "name": "stdout",
     "output_type": "stream",
     "text": [
      "Estou ligando...\n",
      "Estou desligando...\n",
      "Asus 16gb Nvidia\n"
     ]
    }
   ],
   "source": [
    "#Exemplo - classe computados\n",
    "\n",
    "class Computador: #classe\n",
    "    def __init__(self, marca, memoria_ram, placa_de_video): #construtor\n",
    "        self.marca = marca #atributo\n",
    "        self.memoria_ram = memoria_ram #atributo\n",
    "        self.placa_de_video = placa_de_video #atributo\n",
    "        \n",
    "    def Ligar(self): #método\n",
    "        print('Estou ligando...')\n",
    "        \n",
    "    def Desligar(self): #método\n",
    "        print('Estou desligando...')\n",
    "    \n",
    "    def ExibirInformacoes(self): #método\n",
    "        print(self.marca, self.memoria_ram, self.placa_de_video)\n",
    "        \n",
    "computador1 = Computador('Asus', '16gb', 'Nvidia') #Instância\n",
    "computador1.Ligar()\n",
    "computador1.Desligar()\n",
    "computador1.ExibirInformacoes()"
   ]
  },
  {
   "cell_type": "code",
   "execution_count": 35,
   "metadata": {},
   "outputs": [
    {
     "name": "stdout",
     "output_type": "stream",
     "text": [
      "Rodolfo tem 8 anos de idade.\n",
      "O Mel faz au au.\n"
     ]
    }
   ],
   "source": [
    "#Exemplo - classe cachorro\n",
    "\n",
    "class Cachorro: #classe\n",
    "    def __init__(self, nome, idade): #construtor\n",
    "        self.nome = nome #atributos\n",
    "        self.idade = idade #atributos\n",
    "        \n",
    "    def descricao(self): #método\n",
    "        return f'{self.nome} tem {self.idade} anos de idade.'\n",
    "    \n",
    "    def emite_som(self, som): #método\n",
    "        return f'O {self.nome} faz {som}.'\n",
    "\n",
    "cachorro1 = Cachorro('Rodolfo', '8').descricao()\n",
    "cachorro2 = Cachorro('Mel', '2').emite_som('au au')\n",
    "\n",
    "print(cachorro1)\n",
    "print(cachorro2)"
   ]
  },
  {
   "cell_type": "markdown",
   "metadata": {},
   "source": [
    "#### Métodos Privados\n",
    "São aqueles que não devem ser acessados fora da classe, nem por nenhuma classe base. Para definir um método privado, deve-se prefixar o nome dele com sublinhado duplo “ __ ”"
   ]
  },
  {
   "cell_type": "code",
   "execution_count": 36,
   "metadata": {},
   "outputs": [
    {
     "name": "stdout",
     "output_type": "stream",
     "text": [
      "O tipo sanguíneo é O\n"
     ]
    },
    {
     "ename": "AttributeError",
     "evalue": "'Cachorro' object has no attribute '__tipo_sanguineo'",
     "output_type": "error",
     "traceback": [
      "\u001b[1;31m---------------------------------------------------------------------------\u001b[0m",
      "\u001b[1;31mAttributeError\u001b[0m                            Traceback (most recent call last)",
      "\u001b[1;32m<ipython-input-36-77b0856ad895>\u001b[0m in \u001b[0;36m<module>\u001b[1;34m\u001b[0m\n\u001b[0;32m     16\u001b[0m \u001b[0mprint\u001b[0m\u001b[1;33m(\u001b[0m\u001b[0mcachorro1\u001b[0m\u001b[1;33m)\u001b[0m\u001b[1;33m\u001b[0m\u001b[1;33m\u001b[0m\u001b[0m\n\u001b[0;32m     17\u001b[0m \u001b[1;33m\u001b[0m\u001b[0m\n\u001b[1;32m---> 18\u001b[1;33m \u001b[0mcachorro2\u001b[0m \u001b[1;33m=\u001b[0m \u001b[0mCachorro\u001b[0m\u001b[1;33m(\u001b[0m\u001b[1;34m'Leao'\u001b[0m\u001b[1;33m,\u001b[0m \u001b[1;34m'12'\u001b[0m\u001b[1;33m)\u001b[0m\u001b[1;33m.\u001b[0m\u001b[0m__tipo_sanguineo\u001b[0m\u001b[1;33m(\u001b[0m\u001b[1;33m)\u001b[0m\u001b[1;33m\u001b[0m\u001b[1;33m\u001b[0m\u001b[0m\n\u001b[0m\u001b[0;32m     19\u001b[0m \u001b[0mprint\u001b[0m\u001b[1;33m(\u001b[0m\u001b[0mcachorro1\u001b[0m\u001b[1;33m)\u001b[0m\u001b[1;33m\u001b[0m\u001b[1;33m\u001b[0m\u001b[0m\n",
      "\u001b[1;31mAttributeError\u001b[0m: 'Cachorro' object has no attribute '__tipo_sanguineo'"
     ]
    }
   ],
   "source": [
    "#Exemplo - método privado\n",
    "\n",
    "class Cachorro:\n",
    "    def __init__(self, nome, idade):\n",
    "        self.nome = nome\n",
    "        self.idade = idade\n",
    "    \n",
    "    def __tipo_sanguineo(self):\n",
    "        return f'O tipo sanguíneo é O'\n",
    "    \n",
    "    def busca_tipo_se_responsavel(self,nome):\n",
    "        if nome == 'Thais':\n",
    "            return self.__tipo_sanguineo()\n",
    "    \n",
    "cachorro1 = Cachorro('Fred', '2').busca_tipo_se_responsavel('Thais')\n",
    "print(cachorro1)\n",
    "\n",
    "cachorro2 = Cachorro('Leao', '12').__tipo_sanguineo()\n",
    "print(cachorro1)"
   ]
  },
  {
   "cell_type": "markdown",
   "metadata": {},
   "source": [
    "### **Fundamentos Principais de POO**"
   ]
  },
  {
   "cell_type": "markdown",
   "metadata": {},
   "source": [
    "#### Abstração\n",
    "É um processo de ocultar os detalhes de implementação do usuário, apenas a funcionalidade será fornecida. Em outras palavras, o usuário terá a informação sobre o que o objeto faz ao invés de como ele faz."
   ]
  },
  {
   "cell_type": "markdown",
   "metadata": {},
   "source": [
    "#### Herança\n",
    "Herança é uma forma de gerar novas classes usando classes que foram definidas previamente. Essas novas classes formadas, são chamadas de classes derivadas ou sub-classes.\n",
    "A classe que deu origem a sub-classe é chamada de super-classe ou classe base.\n",
    "Um dos principais benefícios da herança é a reutilização de código e a redução da complexidade dos programas."
   ]
  },
  {
   "cell_type": "markdown",
   "metadata": {},
   "source": [
    "#### Polimorfismo\n",
    "É a característica de poder atribuir um significado ou uso diferente a algo em diferentes contextos – especificamente, permitir que uma entidade como uma função ou um objeto tenha mais de uma forma."
   ]
  },
  {
   "cell_type": "markdown",
   "metadata": {},
   "source": [
    "#### Encapsulamento\n",
    "O encapsulamento pode ser descrito como uma barreira protetora que impede que o código e os dados sejam acessados aleatoriamente por outro código definido fora da classe. O acesso aos dados e ao código é rigidamente controlado por uma classe."
   ]
  }
 ],
 "metadata": {
  "kernelspec": {
   "display_name": "Python 3",
   "language": "python",
   "name": "python3"
  },
  "language_info": {
   "codemirror_mode": {
    "name": "ipython",
    "version": 3
   },
   "file_extension": ".py",
   "mimetype": "text/x-python",
   "name": "python",
   "nbconvert_exporter": "python",
   "pygments_lexer": "ipython3",
   "version": "3.8.3"
  }
 },
 "nbformat": 4,
 "nbformat_minor": 4
}
