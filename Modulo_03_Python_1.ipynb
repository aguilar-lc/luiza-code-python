{
 "cells": [
  {
   "cell_type": "markdown",
   "metadata": {},
   "source": [
    "## Módulo 3 - Python 1\n",
    "\n",
    "### **Tipos Básicos**"
   ]
  },
  {
   "cell_type": "markdown",
   "metadata": {},
   "source": [
    "#### Inteiro (int)\n",
    "O tipo inteiro é um tipo numérico composto por caracteres numéricos (algarismos) inteiros. Por exemplo: 20, 7, 0, -3 e -500"
   ]
  },
  {
   "cell_type": "code",
   "execution_count": 12,
   "metadata": {},
   "outputs": [
    {
     "name": "stdout",
     "output_type": "stream",
     "text": [
      "<class 'int'>\n",
      "<class 'int'>\n"
     ]
    }
   ],
   "source": [
    "#Verificação do tipo:\n",
    "idade = 27\n",
    "ano = 1995\n",
    "print(type(idade))\n",
    "print(type(ano))"
   ]
  },
  {
   "cell_type": "markdown",
   "metadata": {},
   "source": [
    "#### ponto flutuante (float)\n",
    "O tipo float trata-se de números fracionários, positivos ou negativos. Por exemplo:-7.1 e 7.1"
   ]
  },
  {
   "cell_type": "code",
   "execution_count": 13,
   "metadata": {},
   "outputs": [
    {
     "name": "stdout",
     "output_type": "stream",
     "text": [
      "<class 'float'>\n",
      "<class 'float'>\n"
     ]
    }
   ],
   "source": [
    "#Verificação do tipo:\n",
    "altura = 1.75\n",
    "peso = 60.2\n",
    "print(type(altura))\n",
    "print(type(peso))"
   ]
  },
  {
   "cell_type": "markdown",
   "metadata": {},
   "source": [
    "#### booleano (bool)\n",
    "Tipo de dado lógico que pode assumir apenas dois valores: falso ou verdadeiro (False ou True em Python)."
   ]
  },
  {
   "cell_type": "code",
   "execution_count": 19,
   "metadata": {},
   "outputs": [
    {
     "name": "stdout",
     "output_type": "stream",
     "text": [
      "<class 'bool'>\n",
      "<class 'bool'>\n"
     ]
    }
   ],
   "source": [
    "#Verificação do tipo:\n",
    "semana = False\n",
    "feriado = True\n",
    "print(type(semana))\n",
    "print(type(feriado))"
   ]
  },
  {
   "cell_type": "markdown",
   "metadata": {},
   "source": [
    "#### string (str)\n",
    "É uma sequência imutável de caracteres ou apenas um carácter. As strings são utilizadas em python para gravar informações em formato de texto, como nomes por exemplo. "
   ]
  },
  {
   "cell_type": "code",
   "execution_count": 14,
   "metadata": {},
   "outputs": [
    {
     "name": "stdout",
     "output_type": "stream",
     "text": [
      "<class 'str'>\n",
      "<class 'str'>\n"
     ]
    }
   ],
   "source": [
    "#Verificação do tipo:\n",
    "nome = 'Márcia'\n",
    "profissao = 'Desenvolvedora de Software'\n",
    "print(type(nome))\n",
    "print(type(profissao))"
   ]
  },
  {
   "cell_type": "markdown",
   "metadata": {},
   "source": [
    "### **Variáveis**\n",
    "\n",
    "As variáveis são utilizadas em um código Python para armazenar valores que queremos usar mais tarde. São espaços armazenados no computador que armazenam valores. As variáveis podem ser subscritas e assumirão o novo valor.\n",
    "\n",
    "Existem algumas regras para a criação do nome das variáveis:\n",
    "\n",
    "    1 – Não pode começar com números;\n",
    "    2 – Não pode haver espaço no nome (se necessário utilizar _);\n",
    "    3 – Não é possível usar esses símbolos: “ “, <>, /, |, \\, ( ), @, #, $, %, ^, &, *, ~, -, +, !\n",
    "    4 – Não se podem usar palavras reservadas (que já são usadas pelo python) Ex: false, true, if, elife."
   ]
  },
  {
   "cell_type": "code",
   "execution_count": 15,
   "metadata": {},
   "outputs": [
    {
     "name": "stdout",
     "output_type": "stream",
     "text": [
      "200\n"
     ]
    }
   ],
   "source": [
    "#Exemplos variáveis\n",
    "velocidade_do_carro = 200\n",
    "print(velocidade_do_carro)"
   ]
  },
  {
   "cell_type": "code",
   "execution_count": 22,
   "metadata": {},
   "outputs": [
    {
     "name": "stdout",
     "output_type": "stream",
     "text": [
      "1.62\n"
     ]
    }
   ],
   "source": [
    "sua_altura = 1.62\n",
    "print(sua_altura)"
   ]
  },
  {
   "cell_type": "code",
   "execution_count": 24,
   "metadata": {},
   "outputs": [
    {
     "name": "stdout",
     "output_type": "stream",
     "text": [
      "True\n"
     ]
    }
   ],
   "source": [
    "gosta_de_batata = True\n",
    "print(gosta_de_batata)"
   ]
  },
  {
   "cell_type": "code",
   "execution_count": 25,
   "metadata": {},
   "outputs": [
    {
     "name": "stdout",
     "output_type": "stream",
     "text": [
      "Sejam bem-vindas ao LuizaCode\n"
     ]
    }
   ],
   "source": [
    "frase_boas_vindas = 'Sejam bem-vindas ao LuizaCode'\n",
    "print(frase_boas_vindas)"
   ]
  },
  {
   "cell_type": "markdown",
   "metadata": {},
   "source": [
    "### **Comentários**\n",
    "\n",
    "É uma linha que você escreve no código fonte, porém esse comentário não é interpretado na linguagem de programação. Ele serve para que se possa adicionar alguma informação a mais no código. Para isso, pode-se utilizar #comentário ou '''comentário'''."
   ]
  },
  {
   "cell_type": "code",
   "execution_count": 44,
   "metadata": {},
   "outputs": [
    {
     "data": {
      "text/plain": [
       "'Sejam bem-vindas ao LuizaCode'"
      ]
     },
     "execution_count": 44,
     "metadata": {},
     "output_type": "execute_result"
    }
   ],
   "source": [
    "#Exemplo de comentários\n",
    "\n",
    "#Sejam bem-vindas ao LuizaCode\n",
    "'''Sejam bem-vindas ao LuizaCode'''"
   ]
  },
  {
   "cell_type": "markdown",
   "metadata": {},
   "source": [
    "### **Operadores**"
   ]
  },
  {
   "cell_type": "markdown",
   "metadata": {},
   "source": [
    "#### Operadores Aritméticos\n",
    "Esses operadores são utilizados para criar expressões matemáticas comuns, como soma, subtração, multiplicação e divisão.\n",
    "\n",
    "- *Adição(+),  Subtração(-),  Multiplicação(*),  Divisão(/),  Divisão por inteiro(//), Resto da divisão(%), Exponenciação(**)*"
   ]
  },
  {
   "cell_type": "code",
   "execution_count": 45,
   "metadata": {},
   "outputs": [
    {
     "name": "stdout",
     "output_type": "stream",
     "text": [
      "6\n",
      "2\n",
      "8\n",
      "2.0\n",
      "2\n",
      "0\n",
      "16\n"
     ]
    }
   ],
   "source": [
    "#Exemplos com operadores artméticos\n",
    "\n",
    "quatro = 4\n",
    "dois = 2\n",
    "\n",
    "soma = quatro + dois\n",
    "print(soma)\n",
    "\n",
    "subtracao = quatro - dois\n",
    "print(subtracao)\n",
    "\n",
    "multiplicacao = quatro * dois\n",
    "print(multiplicacao)\n",
    "\n",
    "divisao = quatro / dois\n",
    "print(divisao)\n",
    "\n",
    "divisao_por_inteiro = quatro // dois\n",
    "print(divisao_por_inteiro)\n",
    "\n",
    "resto_da_divisao = quatro % 2\n",
    "print(resto_da_divisao)\n",
    "\n",
    "exponenciacao = quatro ** 2\n",
    "print(exponenciacao)"
   ]
  },
  {
   "cell_type": "markdown",
   "metadata": {},
   "source": [
    "#### Operadores Comparativos\n",
    "Operadores utilizados para comparar dois valores.\n",
    "\n",
    "- *Igual(==), Não igual(!=), Maior(>), Maior ou igual(>=), Menor(<), Menor ou igual(<=)*"
   ]
  },
  {
   "cell_type": "code",
   "execution_count": 35,
   "metadata": {},
   "outputs": [
    {
     "name": "stdout",
     "output_type": "stream",
     "text": [
      "Os valores são iguais\n",
      "O valor de num não é igual\n",
      "O valor de num é maior que 2\n",
      "O valor de num é maior ou igual a 5\n",
      "O valor de num é menor que 7\n",
      "O valor de num não é menor ou igual a 5\n"
     ]
    }
   ],
   "source": [
    "#Exemplos com operadores comparativos\n",
    "\n",
    "num = 5\n",
    "\n",
    "if num == 5:\n",
    "    print('Os valores são iguais')\n",
    "\n",
    "if num != 7:\n",
    "    print('Os valores não são iguais')\n",
    "    \n",
    "if num > 2:\n",
    "    print('O valor de num é maior que 2')\n",
    "\n",
    "if num >= 5:\n",
    "    print('O valor de num é maior ou igual a 5')\n",
    "\n",
    "if num < 7:\n",
    "    print('O valor de num é menor que 7')\n",
    "    \n",
    "if num <= 5:\n",
    "    print('O valor de num não é menor ou igual a 5')"
   ]
  },
  {
   "cell_type": "markdown",
   "metadata": {},
   "source": [
    "#### Operadores de Atribuição\n",
    "Esses Operadores são utilizados no momento da atribuição de valores à variáveis e controlam como a atribuição será realizada.\n",
    "\n",
    "- *Atribuição(=), Adição e atribuição(+=), Subtração e atribuição(-=), Multiplicação e atribuição(*=), Divisão e atribuição(/=), Divisão por inteiro e atribuição(//=), Resto da divisão e atribuição(%=), Exponenciação e atribuição(**=)*"
   ]
  },
  {
   "cell_type": "code",
   "execution_count": 42,
   "metadata": {},
   "outputs": [
    {
     "name": "stdout",
     "output_type": "stream",
     "text": [
      "12\n",
      "2\n",
      "10\n",
      "1.25\n",
      "1\n",
      "1\n",
      "25\n"
     ]
    }
   ],
   "source": [
    "#Exemplos com operadores de atribuição\n",
    "\n",
    "#adição e atribuição\n",
    "numero = 5\n",
    "numero += 7\n",
    "print(numero)\n",
    "\n",
    "#subtração e atribuição\n",
    "numero = 5\n",
    "numero -= 3\n",
    "print(numero)\n",
    "\n",
    "#multiplicação e atribuição\n",
    "numero = 5\n",
    "numero *= 2\n",
    "print(numero)\n",
    "\n",
    "#divisão e atribuição\n",
    "numero = 5\n",
    "numero /= 4\n",
    "print(numero)\n",
    "\n",
    "#divisão por inteiro e atribuição\n",
    "numero = 5\n",
    "numero //= 4\n",
    "print(numero)\n",
    "\n",
    "#resto da divisão e atribuição\n",
    "numero = 5\n",
    "numero %= 2\n",
    "print(numero)\n",
    "\n",
    "#exponenciação e atribuição\n",
    "numero = 5\n",
    "numero **= 2\n",
    "print(numero)"
   ]
  },
  {
   "cell_type": "markdown",
   "metadata": {},
   "source": [
    "#### Operadores Lógicos\n",
    "Python nos disponibiliza três tipos de Operadores Lógicos: o and, o or e o not.\n",
    "\n",
    "- *“E” lógico(and) - Retorna True se ambas afirmações forem verdadeiras*\n",
    "- *“Ou” lógico(or) - Retorna True se uma das afirmações for verdadeira*\n",
    "- *Negação(not) - Retorna falso se o resultado for verdadeiro*"
   ]
  },
  {
   "cell_type": "code",
   "execution_count": 43,
   "metadata": {},
   "outputs": [
    {
     "name": "stdout",
     "output_type": "stream",
     "text": [
      "As duas condições são verdadeiras\n",
      "Uma ou duas das condições são verdadeiras\n",
      "Inverte o resultado da condição entre os parâmetros\n"
     ]
    }
   ],
   "source": [
    "#Exemplos com operadores lógicos\n",
    "\n",
    "num1 = 7\n",
    "num2 = 4\n",
    "\n",
    "if num1 and num2 < 8:\n",
    "    print('As duas condições são verdadeiras')\n",
    "    \n",
    "if num1 > 4 or num2 <= 8:\n",
    "    print('Uma ou duas das condições são verdadeiras')\n",
    "\n",
    "if not(num1 > 30 and num2 > 8):\n",
    "    print('Inverte o resultado da condição entre os parâmetros')"
   ]
  },
  {
   "cell_type": "markdown",
   "metadata": {},
   "source": [
    "### **Conversão de Tipos**"
   ]
  },
  {
   "cell_type": "markdown",
   "metadata": {},
   "source": [
    "É possível realizar a conversão dos tipos de dados com o uso de funções definidas:\n",
    "\n",
    "- *int(a, base): Converte qualquer tipo de dado em inteiro. ‘Base’especifica a base em que a string está se o tipo de dados for uma string*\n",
    "- *float(): Converte qualquer tipo de dados em um float*\n",
    "- *str(): Converte números inteiros em strings*\n",
    "- *dict(): Converte tuplas em dicionário*\n",
    "- *ord(): Converte qualquer caractere em um inteiro*\n",
    "- *hex(): Converte número inteiro em uma string hexadecimal*\n",
    "- *oct(): converte um número inteiro em octal*\n",
    "- *tupla: converte para uma tupla*"
   ]
  },
  {
   "cell_type": "code",
   "execution_count": 46,
   "metadata": {},
   "outputs": [
    {
     "name": "stdout",
     "output_type": "stream",
     "text": [
      "<class 'int'>\n"
     ]
    }
   ],
   "source": [
    "#Exemplos de conversão de tipos:\n",
    "a = 1\n",
    "print(type(a))"
   ]
  },
  {
   "cell_type": "code",
   "execution_count": 47,
   "metadata": {},
   "outputs": [
    {
     "name": "stdout",
     "output_type": "stream",
     "text": [
      "<class 'str'>\n"
     ]
    }
   ],
   "source": [
    "a = str(a)\n",
    "print(type(a))"
   ]
  },
  {
   "cell_type": "code",
   "execution_count": 48,
   "metadata": {},
   "outputs": [
    {
     "name": "stdout",
     "output_type": "stream",
     "text": [
      "<class 'list'>\n"
     ]
    }
   ],
   "source": [
    "b = ['a', 'b', 'c', 'd']\n",
    "print(type(b))"
   ]
  },
  {
   "cell_type": "code",
   "execution_count": 49,
   "metadata": {},
   "outputs": [
    {
     "name": "stdout",
     "output_type": "stream",
     "text": [
      "<class 'tuple'>\n"
     ]
    }
   ],
   "source": [
    "b = tuple(b)\n",
    "print(type(b))"
   ]
  },
  {
   "cell_type": "markdown",
   "metadata": {},
   "source": [
    "### Listas\n",
    "\n",
    "As listas podem ser consideradas a versão geral de uma sequência em Python. Ao contrário de strings, as listas são mutáveis, ou seja, os elementos dentro de uma lista podem ser alterados. As listas são construídas com uso de [  ] e vírgulas separando cada elemento da lista.\n",
    "\n",
    "- Listas não têm tamanho fixo;\n",
    "- Listas não têm restrições de tipo fixo;\n",
    "- Pode-se criar lista dentro de outra lista (listas aninhadas)\n"
   ]
  },
  {
   "cell_type": "code",
   "execution_count": 16,
   "metadata": {},
   "outputs": [
    {
     "name": "stdout",
     "output_type": "stream",
     "text": [
      "<class 'list'>\n"
     ]
    }
   ],
   "source": [
    "#Exemplos com Listas\n",
    "#Lista com um único item:\n",
    "lista = ['luizacode']\n",
    "print(type(lista))"
   ]
  },
  {
   "cell_type": "code",
   "execution_count": 17,
   "metadata": {},
   "outputs": [
    {
     "name": "stdout",
     "output_type": "stream",
     "text": [
      "['luizacode', 5, 'python']\n"
     ]
    }
   ],
   "source": [
    "#Lista com vários itens\n",
    "lista = ['luizacode', 5, 'python']\n",
    "print(lista)"
   ]
  },
  {
   "cell_type": "markdown",
   "metadata": {},
   "source": [
    "#### Compressão de listas\n",
    "\n",
    "List Comprehension, aplica uma expressão arbitrária(ao invés de aplicar uma função) a uma sequência de elementos. Seria essencialmente uma linha de loop for construído dentro de uma. É uma opção parei deixar o código mais otimizado e limpo."
   ]
  },
  {
   "cell_type": "code",
   "execution_count": 18,
   "metadata": {},
   "outputs": [
    {
     "name": "stdout",
     "output_type": "stream",
     "text": [
      "['p', 'y', 't', 'h', 'o', 'n']\n"
     ]
    }
   ],
   "source": [
    "#Exemplo de List Comprehension\n",
    "lst = [x for x in 'python']\n",
    "print(lst)"
   ]
  },
  {
   "cell_type": "markdown",
   "metadata": {},
   "source": [
    "#### Indexação de listas\n",
    "\n",
    "Todos os itens de uma lista são indexados, ou seja, para cada item da lista um índice é atribuído ao mesmo, para acessar esses itens é necessário que especifiquemos o índice, lembrando, o índice começa no 0."
   ]
  },
  {
   "cell_type": "code",
   "execution_count": 19,
   "metadata": {},
   "outputs": [
    {
     "name": "stdout",
     "output_type": "stream",
     "text": [
      "Estou buscando a fruta jaca\n"
     ]
    }
   ],
   "source": [
    "#Exemplo de indexação\n",
    "#selecionando um item da lista\n",
    "lista = ['maçã', 'banana', 'jaca', 'melão', 'abacaxi']\n",
    "print(f'Estou buscando a fruta {lista[2]}')"
   ]
  },
  {
   "cell_type": "code",
   "execution_count": 20,
   "metadata": {},
   "outputs": [
    {
     "name": "stdout",
     "output_type": "stream",
     "text": [
      "Estou buscando a fruta abacaxi\n"
     ]
    }
   ],
   "source": [
    "#obtendo o último item da lista\n",
    "\n",
    "lista = ['maçã', 'banana', 'jaca', 'melão', 'abacaxi']\n",
    "print(f'Estou buscando a fruta {lista[-1]}')"
   ]
  },
  {
   "cell_type": "markdown",
   "metadata": {},
   "source": [
    "#### Listas aninhadas\n",
    "\n",
    "Listas aninhadas são listas dentro de listas"
   ]
  },
  {
   "cell_type": "code",
   "execution_count": 21,
   "metadata": {},
   "outputs": [
    {
     "name": "stdout",
     "output_type": "stream",
     "text": [
      "Estou buscando a sublista ['banana', 'jaca']\n"
     ]
    }
   ],
   "source": [
    "#Exemplo com listas aninhadas\n",
    "#acessando a sublista\n",
    "lista = ['maçã', ['banana', 'jaca'], 'melão', 'abacaxi']\n",
    "sublista = lista[1]\n",
    "print(f'Estou buscando a sublista {sublista}')"
   ]
  },
  {
   "cell_type": "markdown",
   "metadata": {},
   "source": [
    "#### Percorrendo uma Lista\n",
    "\n",
    "É possível percorrer uma lista utilizando o loop for."
   ]
  },
  {
   "cell_type": "code",
   "execution_count": 22,
   "metadata": {},
   "outputs": [
    {
     "name": "stdout",
     "output_type": "stream",
     "text": [
      "[35, 15, 12, 22]\n"
     ]
    }
   ],
   "source": [
    "lista = [0, 5, 8, 10, 35, 15, 7, 4, 12, 22, 3, 2, 9, 1]\n",
    "lista_numeros_maior_10 = []\n",
    "for i in lista:\n",
    "    if i > 10:\n",
    "        lista_numeros_maior_10.append(i)\n",
    "print(lista_numeros_maior_10)"
   ]
  },
  {
   "cell_type": "markdown",
   "metadata": {},
   "source": [
    "#### Comandos para manuseio de uma Lista\n",
    "\n",
    "- list.append(x): adiciona um item ao fim da lista\n",
    "- list.extend(iterable): adiciona todos os itens do iterável ao fim da lista\n",
    "- list.insert(i, x): insere um item em uma dada posivel (i) dada pelo index\n",
    "- list.remove(x): remove o primeiro elemento cujo o valor for “x”\n",
    "- list.pop(i): remove o item da posição i da lista e retorna, caso o index não seja especificado, retorna o último elemento.\n",
    "- list.clear(): remove tudo da lista\n",
    "- list.index(x[, start[, end]]): retorna o indice do primeiro elemento cujo valor seja x.\n",
    "- list.count(x): retorna o número de vezes que x aparece na lista\n",
    "- list.sort(key=nome, reverse=False): ordena os itens da lista\n",
    "- list.reverse(): reverte os elementos da lista\n",
    "- list.copy(): retorna uma lista com a cópia dos elementos da lista de origem."
   ]
  },
  {
   "cell_type": "code",
   "execution_count": 23,
   "metadata": {},
   "outputs": [
    {
     "name": "stdout",
     "output_type": "stream",
     "text": [
      "Lista 2:[1, 6, 9, 11, 36, 16, 8, 5, 13, 23, 4, 3, 10, 2]\n"
     ]
    }
   ],
   "source": [
    "#Exemplos de manuseio de listas\n",
    "#append\n",
    "lista1 = [0, 5, 8, 10, 35, 15, 7, 4, 12, 22, 3, 2, 9, 1]\n",
    "lista2 = []\n",
    "for i in lista1:\n",
    "    lista2.append(i+1)\n",
    "print(f'Lista 2:{lista2}')"
   ]
  },
  {
   "cell_type": "code",
   "execution_count": 25,
   "metadata": {},
   "outputs": [
    {
     "name": "stdout",
     "output_type": "stream",
     "text": [
      "[0, 5, 8, 10, 35, 15, 7, 4, 12, 22, 3, 2, 9, 1, 0, 0, 0, 0]\n"
     ]
    }
   ],
   "source": [
    "#extend\n",
    "lista1 = [0, 5, 8, 10, 35, 15, 7, 4, 12, 22, 3, 2, 9, 1]\n",
    "lista1.extend([0,0,0,0])\n",
    "print(lista1)"
   ]
  },
  {
   "cell_type": "code",
   "execution_count": 27,
   "metadata": {},
   "outputs": [
    {
     "name": "stdout",
     "output_type": "stream",
     "text": [
      "[0, 5, 8, 10, 35, 15, 7, 4, 'meio', 12, 22, 3, 2, 9, 1]\n"
     ]
    }
   ],
   "source": [
    "#insert\n",
    "lista1 = [0, 5, 8, 10, 35, 15, 7, 4, 12, 22, 3, 2, 9, 1]\n",
    "lista1.insert(8, 'meio')\n",
    "print(lista1)"
   ]
  },
  {
   "cell_type": "code",
   "execution_count": 28,
   "metadata": {},
   "outputs": [
    {
     "name": "stdout",
     "output_type": "stream",
     "text": [
      "[0, 5, 8, 10, 35, 15, 7, 4, 12, 22, 3, 2, 9, 1]\n"
     ]
    }
   ],
   "source": [
    "#remove\n",
    "lista1 = [0, 5, 8, 10, 35, 15, 7, 4, 'meio', 12, 22, 3, 2, 9, 1]\n",
    "lista1.remove('meio')\n",
    "print(lista1)"
   ]
  },
  {
   "cell_type": "code",
   "execution_count": 29,
   "metadata": {},
   "outputs": [
    {
     "name": "stdout",
     "output_type": "stream",
     "text": [
      "[0, 5, 8, 10, 15, 7, 4, 12, 22, 3, 2, 9, 1]\n"
     ]
    }
   ],
   "source": [
    "#pop\n",
    "lista1 = [0, 5, 8, 10, 35, 15, 7, 4, 12, 22, 3, 2, 9, 1]\n",
    "lista1.pop(4)\n",
    "print(lista1)"
   ]
  },
  {
   "cell_type": "code",
   "execution_count": 30,
   "metadata": {},
   "outputs": [
    {
     "name": "stdout",
     "output_type": "stream",
     "text": [
      "[0, 1, 2, 3, 4, 5, 7, 8, 9, 10, 12, 15, 22, 35]\n"
     ]
    }
   ],
   "source": [
    "#sort\n",
    "lista1 = [0, 5, 8, 10, 35, 15, 7, 4, 12, 22, 3, 2, 9, 1]\n",
    "lista1.sort()\n",
    "print(lista1)"
   ]
  },
  {
   "cell_type": "code",
   "execution_count": 31,
   "metadata": {},
   "outputs": [
    {
     "name": "stdout",
     "output_type": "stream",
     "text": [
      "[10, 9, 8, 7, 6, 5, 4, 3, 2, 1]\n"
     ]
    }
   ],
   "source": [
    "#reverse\n",
    "lista1 = [1,2,3,4,5,6,7,8,9,10]\n",
    "lista1.reverse()\n",
    "print(lista1)"
   ]
  },
  {
   "cell_type": "code",
   "execution_count": 32,
   "metadata": {},
   "outputs": [
    {
     "name": "stdout",
     "output_type": "stream",
     "text": [
      "[1, 2, 3, 4, 5, 6, 7, 8, 9, 10]\n"
     ]
    }
   ],
   "source": [
    "#copy\n",
    "lista1 = [1,2,3,4,5,6,7,8,9,10]\n",
    "listanova = lista1.copy()\n",
    "print(listanova)"
   ]
  },
  {
   "cell_type": "markdown",
   "metadata": {},
   "source": [
    "### Tuplas\n",
    "\n",
    "São muito semelhantes às listas, no entanto, ao contrário das listas, tuplas são imutáveis, o que significa que não podem ser alteradas. São utilizadas para apresentar dados que não devem ser alterados, como os dias da semana ou datas em um calendário. As tuplas são construídas com o uso de parênteses (  ) e vírgulas separando cada elemento da tupla.\n"
   ]
  },
  {
   "cell_type": "code",
   "execution_count": 33,
   "metadata": {},
   "outputs": [
    {
     "name": "stdout",
     "output_type": "stream",
     "text": [
      "('maçã', 'banana', 'jaca', 'melão', 'abacaxi')\n"
     ]
    }
   ],
   "source": [
    "#Exemplo de tupla\n",
    "tupla = ('maçã', 'banana', 'jaca', 'melão', 'abacaxi')\n",
    "print(tupla)"
   ]
  },
  {
   "cell_type": "markdown",
   "metadata": {},
   "source": [
    "### Funções\n",
    "\n",
    "Em Python, uma função é uma sequência de comandos que executa alguma tarefa e que tem um nome. A sua principal finalidade é nos ajudar a organizar programas em pedaços que correspondam a como imaginamos uma solução do problema. Com funções escrevemos o código uma única vez e repetimos a mesma instrução, fazendo a chamada à função quantas vezes forem necessárias.\n",
    "No python, além de podermos criar funções, temos a opção de usar funções embutidas como Map, Filter, Reduce."
   ]
  },
  {
   "cell_type": "markdown",
   "metadata": {},
   "source": [
    "#### Função Map\n",
    "\n",
    "O map() vai aplicar uma função em cada item de uma lista de itens, ou seja, é um for com uma chamada da função para aplicá-la a cada item da sua lista."
   ]
  },
  {
   "cell_type": "code",
   "execution_count": 34,
   "metadata": {},
   "outputs": [
    {
     "name": "stdout",
     "output_type": "stream",
     "text": [
      "[0, 2, 4, 6, 8, 10, 12, 14, 16, 18]\n"
     ]
    }
   ],
   "source": [
    "#Exemplo de função map\n",
    "lista = [0,1,2,3,4,5,6,7,8,9]\n",
    "lista_somada = map(lambda x: x+x, lista)\n",
    "print(list(lista_somada))"
   ]
  },
  {
   "cell_type": "markdown",
   "metadata": {},
   "source": [
    "#### Função Filter\n",
    "\n",
    "Como o próprio nome já deixa claro, filter() filtra os elementos de uma sequência. O processo de filtragem é definido a partir de uma função que o programador passa como primeiro argumento da função. Assim, filter() só “deixa passar” para a sequência resultante aqueles elementos para os quais a chamada da função que o usuário passou retornar True. "
   ]
  },
  {
   "cell_type": "code",
   "execution_count": 35,
   "metadata": {},
   "outputs": [
    {
     "name": "stdout",
     "output_type": "stream",
     "text": [
      "[0, 2, 4, 6, 8]\n"
     ]
    }
   ],
   "source": [
    "#Exemplo de função filter\n",
    "lista = [0,1,2,3,4,5,6,7,8,9]\n",
    "pares = filter(lambda x: x%2 == 0, lista)\n",
    "print(list(pares))"
   ]
  },
  {
   "cell_type": "markdown",
   "metadata": {},
   "source": [
    "#### Função Reduce\n",
    "\n",
    "Sua utilidade está na aplicação de uma função a todos os valores do conjunto, de forma a agregá-los todos em um único valor"
   ]
  },
  {
   "cell_type": "code",
   "execution_count": 36,
   "metadata": {},
   "outputs": [
    {
     "name": "stdout",
     "output_type": "stream",
     "text": [
      "45\n"
     ]
    }
   ],
   "source": [
    "#Exemplo de função reduce\n",
    "from functools import reduce\n",
    "lista = [0,1,2,3,4,5,6,7,8,9]\n",
    "soma = reduce(lambda x, y: x+y, lista, 0)\n",
    "print(soma)"
   ]
  },
  {
   "cell_type": "markdown",
   "metadata": {},
   "source": [
    "#### Exercícios de Fixação Map, Filter, Reduce"
   ]
  },
  {
   "cell_type": "code",
   "execution_count": 37,
   "metadata": {},
   "outputs": [
    {
     "name": "stdout",
     "output_type": "stream",
     "text": [
      "[90.0, 224.01000000000002, 79.2, 112.41000000000001]\n"
     ]
    }
   ],
   "source": [
    "#1 - Dada uma lista com n valores, aplicar a função de desconto usando map()\n",
    "lista = [100, 248.90, 88, 124.90]\n",
    "def desconto(preco):\n",
    "    return preco * (1 -0.1)\n",
    "lista_desc = map(lambda x: desconto(x), lista)\n",
    "print(list(lista_desc))"
   ]
  },
  {
   "cell_type": "code",
   "execution_count": 40,
   "metadata": {},
   "outputs": [
    {
     "name": "stdout",
     "output_type": "stream",
     "text": [
      "[248.9, 124.9]\n"
     ]
    }
   ],
   "source": [
    "#2 - Retornar os valores maiores que 100, usando filter()\n",
    "lista = [100, 248.90, 88, 124.90]\n",
    "Maior_100 = filter(lambda x: x > 100, lista)\n",
    "print(list(Maior_100))"
   ]
  },
  {
   "cell_type": "code",
   "execution_count": 41,
   "metadata": {},
   "outputs": [
    {
     "name": "stdout",
     "output_type": "stream",
     "text": [
      "561.8\n"
     ]
    }
   ],
   "source": [
    "#3 - Somar todos os valores da lista usando reduce()\n",
    "lista = [100, 248.90, 88, 124.90]\n",
    "soma = reduce(lambda x, y: x+y, lista,0)\n",
    "print(soma)"
   ]
  },
  {
   "cell_type": "markdown",
   "metadata": {},
   "source": [
    "### Parâmetros\n",
    "\n",
    "Parâmetros são os nomes dados aos atributos que uma função pode receber, são eles que definem quais são os argumentos aceitos por uma função, podendo ou não ter um valor padrão"
   ]
  },
  {
   "cell_type": "code",
   "execution_count": 42,
   "metadata": {},
   "outputs": [
    {
     "data": {
      "text/plain": [
       "7700"
      ]
     },
     "execution_count": 42,
     "metadata": {},
     "output_type": "execute_result"
    }
   ],
   "source": [
    "#Exemplo de uma função recebendo 2 parâmetros\n",
    "def calcula_salario(valor, horas=220):\n",
    "    return valor * horas\n",
    "calcula_salario(35)"
   ]
  },
  {
   "cell_type": "code",
   "execution_count": 43,
   "metadata": {},
   "outputs": [
    {
     "name": "stdout",
     "output_type": "stream",
     "text": [
      "conteudo: ('Hello', 'Moças', 'LuizaCode')\n",
      "Hello\n",
      "Moças\n",
      "LuizaCode\n"
     ]
    }
   ],
   "source": [
    "def foo(*args):\n",
    "    print(f'conteudo: {args}')\n",
    "    for i in args:\n",
    "        print(i)\n",
    "foo('Hello', 'Moças', 'LuizaCode')"
   ]
  },
  {
   "cell_type": "markdown",
   "metadata": {},
   "source": [
    "### Decorator\n",
    "\n",
    "Decorator é um método para envolver uma função, modificando o seu comportamento. Usando decorator é possível adicionar qualquer comportamento antes e depois da execução de uma função qualquer."
   ]
  },
  {
   "cell_type": "code",
   "execution_count": 44,
   "metadata": {},
   "outputs": [
    {
     "name": "stdout",
     "output_type": "stream",
     "text": [
      "Estou antes da execução da função passada como argumento\n",
      "Sou um belo argumento\n",
      "Estou depois da execução da função passada como argumento\n"
     ]
    }
   ],
   "source": [
    "#Exemplo usando Decorator\n",
    "def decorator(funcao):\n",
    "    def wrapper():\n",
    "        print(\"Estou antes da execução da função passada como argumento\")\n",
    "        funcao()\n",
    "        print(\"Estou depois da execução da função passada como argumento\")\n",
    "    return wrapper\n",
    "\n",
    "def outra_funcao():\n",
    "    print(\"Sou um belo argumento\")\n",
    "funcao_decorada = decorator(outra_funcao)\n",
    "funcao_decorada()"
   ]
  },
  {
   "cell_type": "markdown",
   "metadata": {},
   "source": [
    "### Lambda\n",
    "\n",
    "As funções Lambda são chamadas de funções anônimas. Nada mais são do que funções que o usuário não precisa definir, ou seja, não vai precisar escrever a função e depois utilizá-la dentro do código. Expressões lambdas são usadas para criar funções simples. São também chamadas de funções anônimas ou in-line.\n",
    "Exemplo: Lambda x = x ** 2"
   ]
  },
  {
   "cell_type": "code",
   "execution_count": 11,
   "metadata": {},
   "outputs": [
    {
     "name": "stdout",
     "output_type": "stream",
     "text": [
      "[2, 4, 6, 8]\n",
      "[1, 4, 9, 16, 25]\n"
     ]
    }
   ],
   "source": [
    "#Exemplo usando Lambda\n",
    "\n",
    "lista = [1,2,3,4,5,6,7,8,9]\n",
    "print(list(filter(lambda x: x % 2 == 0, lista)))\n",
    "\n",
    "numero = [1,2,3,4,5]\n",
    "print(list(map(lambda x: x ** 2, numero)))"
   ]
  }
 ],
 "metadata": {
  "kernelspec": {
   "display_name": "Python 3.8.3 ('base')",
   "language": "python",
   "name": "python3"
  },
  "language_info": {
   "codemirror_mode": {
    "name": "ipython",
    "version": 3
   },
   "file_extension": ".py",
   "mimetype": "text/x-python",
   "name": "python",
   "nbconvert_exporter": "python",
   "pygments_lexer": "ipython3",
   "version": "3.8.3"
  },
  "vscode": {
   "interpreter": {
    "hash": "e06ff7da33dc9620448857a90ad8b5f428f0d573d205a934d2841c8aee45ea32"
   }
  }
 },
 "nbformat": 4,
 "nbformat_minor": 4
}
