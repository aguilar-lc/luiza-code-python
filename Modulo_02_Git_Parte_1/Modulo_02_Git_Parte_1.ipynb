{
 "cells": [
  {
   "cell_type": "markdown",
   "metadata": {},
   "source": [
    "## Módulo 2 - Git \n",
    "\n",
    "### **Git - Conceitos Importantes**\n",
    "\n",
    "#### Versionamento:\n",
    "O versionamento é o gerenciamento de versões diferentes de um documento de texto qualquer com o objetivo de manter o histórico da versão, tabalho em equipe, marcação e resgate de versões estáveis, ramificação de projeto, segurança e confiança.\n",
    "\n",
    "#### Git:\n",
    "O Git é uma ferramenta de versionamento não centralizado que permite que desenvolvedores colaborem entre si de forma organizada na construção de um projeto que envolva código.\n",
    "\n",
    "#### Repositório Origin:\n",
    "É o nome dado por padrão ao repositório remoto ao qual nosso repositório local está vinculado, hospedado na internet ou\n",
    "em uma rede.\n",
    "\n",
    "#### Repositório Local:\n",
    "É o local que armazenam os arquivos de um dado projeto em nossa máquina, atualizando sempre com a versão origin.\n",
    "\n",
    "#### Branches: \n",
    "É uma versão, como o nome diz uma ramificação, uma “linha do tempo” da versão original. Cada branch tem um nome único.\n",
    "\n",
    "#### Commits: \n",
    "É um marco em uma branch, grava as alterações em um ou mais arquivos.\n",
    "\n",
    "#### Merge: \n",
    "Busca as alterações feitas em outra branch que não a main e faz um commit, unindo à branch principal.\n",
    "\n",
    "#### GitHub:\n",
    "GitHub é uma plataforma de hospedagem de código-fonte e arquivos com controle de versão usando o Git\n",
    "\n",
    "#### Gitgnore:\n",
    "Arquivo que indica quais arquivo do seu projeto que você não quer compartilhar no GitHub.\n",
    "\n",
    "### **Git - Comandos Básicos**\n",
    "\n",
    "- *git init*: Seleciona o diretório para iniciar o versionamento do código e inicia o repositório local;\n",
    "- *git clone*: clona um repositório remoto no seu repositório local;\n",
    "- *git status*: Mostra o estado atual das alterações;\n",
    "- *git log*: Exibe o histórico de alterações do repositório;\n",
    "- *git add*: Adiciona ou modifica as alterações feitas no diretório;\n",
    "- *git commit*: Registra as alterações em um ponto na linha do tempo;\n",
    "- *git push*: \"empurra\" o commit para a branch especificada, envia as alterações para um repositório remoto;\n",
    "- *git pull*: \"puxa\" as informações/arquivos do repositório remoto do seu último commit e trás para o seu repositório local.\n"
   ]
  }
 ],
 "metadata": {
  "kernelspec": {
   "display_name": "Python 3.8.3 ('base')",
   "language": "python",
   "name": "python3"
  },
  "language_info": {
   "codemirror_mode": {
    "name": "ipython",
    "version": 3
   },
   "file_extension": ".py",
   "mimetype": "text/x-python",
   "name": "python",
   "nbconvert_exporter": "python",
   "pygments_lexer": "ipython3",
   "version": "3.8.3"
  },
  "vscode": {
   "interpreter": {
    "hash": "e06ff7da33dc9620448857a90ad8b5f428f0d573d205a934d2841c8aee45ea32"
   }
  }
 },
 "nbformat": 4,
 "nbformat_minor": 4
}
