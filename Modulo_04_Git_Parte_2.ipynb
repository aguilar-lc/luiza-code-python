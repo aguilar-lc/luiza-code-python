{
 "cells": [
  {
   "cell_type": "markdown",
   "metadata": {},
   "source": [
    "## Módulo 4 - Git parte 2\n",
    "\n",
    "### **Git - Conceitos Importantes**\n",
    "\n",
    "### Branch: \n",
    "É uma versão, como o nome diz uma ramificação, uma “linha do tempo” da versão original. Uma Ramificação significa que você diverge da linha principal de desenvolvimento e continua a trabalhar sem alterar essa linha principal e cada branch tem um nome único.\n",
    "\n",
    "#### **Comandos Branch**\n",
    "\n",
    "- *git branch*: Lista todas as ramificações no repositório;\n",
    "- *git branch <nome-branch>*: Cria uma nova ramificação chamada;\n",
    "- *git branch -d <nome-branch>*: Exclui a ramificação especificada;\n",
    "- *git branch -D <branch>*: Força a exclusão da ramificação especificada, mesmo que ela tenha mudanças não mescladas;\n",
    "- *git branch -m <branch>*: Renomeia a ramificação atual;\n",
    "\n",
    "### Checkout: \n",
    "O comando git checkout permite navegar entre ramificações criadas pelo git branch que podem ser versões de arquivos, commits ou branches.\n",
    "    \n",
    "#### **Comandos Checkout**\n",
    "\n",
    "- *git checkout <nome-do-branch>*: Altera a branch que estará no Working Directory;\n",
    "- *git checkout -b <nome-do-branch>*: Esse comando, além de criar, já altera para o branch criado;\n",
    "\n",
    "### Merge:\n",
    "Git merge é o comando que unifica algum histórico bifurcado. Resumindo, o Git merge permite que você pegue as linhas criadas a partir do Git branch e faça uma integração para a ramificação principal.\n",
    "\n",
    "### Pull Request:\n",
    "A opção pull request permite que seja informado a outras pessoas sobre as alterações das quais você fez push para um branch em um repositório no GitHub. Depois que uma pull request é aberta, pode-se discutir e revisar as possíveis alterações com colaboradores e adicionar commits de acompanhamento antes que as alterações sofram merge no branch base.\n",
    "\n",
    "    \n",
    "### Diff:\n",
    "O git diff é um comando Git multiuso que, quando executado, realiza uma função de comparação nas fontes de dados Git. Essas fontes de dados podem ser commits, ramificações, arquivos e outros. Permite visualizar as mudanças realizadas no repositório.\n",
    "\n",
    "### Stash:\n",
    "Faz um backup das mudanças que ainda não foram “comitadas”, retornando o repositório ao último estado “limpo” (correspondente ao último commit).\n",
    "    \n",
    "### Reset, Revert e Checkout:\n",
    "    \n",
    "- *Reset*: Permite resetar a referência atual da head para um estado específico. (apagando o que aconteceu nesse meio tempo do historico) É possível resetar o estado de arquivos específicos, bem como de uma branch inteira.\n",
    "    \n",
    "- *Revert*: Permite reverter um commit, gerando um novo commit que conta esse revert (ou seja fica no historico)\n",
    "    \n",
    "- *Checkout*: Permite desfazer alterações locais.\n",
    "    \n",
    "### Rebase:\n",
    "Uma maneira de integrar mudanças em branches e resolver divergências.\n",
    "    \n",
    "### Tags:\n",
    "Marcação adicionada em um commit."
   ]
  }
 ],
 "metadata": {
  "kernelspec": {
   "display_name": "Python 3",
   "language": "python",
   "name": "python3"
  },
  "language_info": {
   "codemirror_mode": {
    "name": "ipython",
    "version": 3
   },
   "file_extension": ".py",
   "mimetype": "text/x-python",
   "name": "python",
   "nbconvert_exporter": "python",
   "pygments_lexer": "ipython3",
   "version": "3.8.3"
  }
 },
 "nbformat": 4,
 "nbformat_minor": 4
}
