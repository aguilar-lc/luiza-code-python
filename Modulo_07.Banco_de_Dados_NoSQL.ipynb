{
 "cells": [
  {
   "cell_type": "markdown",
   "metadata": {},
   "source": [
    "## Módulo 7 - Banco de Dados NoSQL\n",
    "\n",
    "### Conceitos Básicos\n",
    "\n",
    "#### Bancos de Dados NoSQL\n",
    "O termo 'NoSQL' se refere a tipos não relacionais de bancos de dados, e esses bancos de dados armazenam dados em um formato diferente das tabelas relacionais. No entanto, os bancos de dados NoSQL podem ser consultados usando APIs de linguagem idiomática, linguagens de consulta estruturadas declarativas e linguagens de consulta por exemplo, razão pela qual também são chamados de bancos de dados \"não apenas SQL\".\n",
    "\n",
    "#### Utilização dos Bancos de Dados NoSQL\n",
    "Os bancos de dados NoSQL são amplamente usados em aplicativos da web em tempo real e big data, porque suas principais vantagens são alta escalabilidade e alta disponibilidade. Os bancos de dados NoSQL também são a escolha preferida dos desenvolvedores, pois eles naturalmente aceitam um paradigma de desenvolvimento ágil, adaptando-se rapidamente aos requisitos em constante mudança. Os bancos de dados NoSQL permitem que os dados sejam armazenados de maneiras mais intuitivas e fáceis de entender, ou mais próximas da maneira como os dados são usados pelos aplicativos - com menos transformações necessárias ao armazenar ou recuperar usando APIs no estilo NoSQL. Além disso, os bancos de dados NoSQL podem aproveitar ao máximo a nuvem para oferecer tempo de inatividade zero.\n",
    "\n",
    "#### Bancos de Dados SQL x  NoSQL:\n",
    "\n",
    "Nos bancos SQL é requerida a definição do esquema com antecedência, ou seja, todas as colunas e seus tipos de dados associados devem ser conhecidos de antemão para que os aplicativos possam gravar dados no banco de dados. Ja nos bancos NoSQL os dados podem ser armazenados sem definir o esquema com antecedência.\n",
    "\n",
    "#### Tipo de Bancos de Dados NoSQL:\n",
    "- Banco de Documentos: Armazena seus dados em documentos semelhantes aos objetos JSON (JavaScript Object Notation);\n",
    "- Chave-Valor: São um tipo mais “simples” de banco de dados, em que cada item contém chaves e valores;\n",
    "- Grafo: Este banco de dados organiza os dados como nós e relacionamentos,que mostram as conexões entre os nós;\n",
    "- Colunar: Ao invés de cada registro da tabela ficar armazenado em uma linha, o registro passa a ser armazenado em colunas separadas\n",
    "\n",
    "#### Benefícios dos Bancos de Dados NoSQL:\n",
    "\n",
    "- Flexibilidade:Com os bancos de dados SQL, os dados são armazenados em uma estrutura predefinida muito mais rígida. Mas com o NoSQL, os dados podem ser armazenados de uma forma mais livre, sem aqueles esquemas rígidos.\n",
    "\n",
    "\n",
    "- Escalabilidade:Em vez de escalar adicionando mais servidores, os bancos de dados NoSQL podem escalar usando hardware comum.\n",
    "\n",
    "\n",
    "- Alto desempenho: A arquitetura de expansão de um banco de dados NoSQL pode ser particularmente valiosa quando o volume de dados ou o tráfego aumenta. Essa arquitetura garante tempos de resposta rápidos e previsíveis em milissegundos de um dígito.\n",
    "\n",
    "\n",
    "- Disponibilidade: Os bancos de dados NoSQL replicam dados automaticamente em vários servidores, data centers ou recursos de nuvem.\n",
    "\n",
    "\n",
    "- Altamente Funcional: Os bancos de dados NoSQL são projetados para armazenamentos de dados distribuídos que têm necessidades de armazenamento de dados extremamente grandes.\n",
    "\n",
    "#### MongoDB:\n",
    "\n",
    "MongoDB é um software de banco de dados orientado a documentos livre, de código aberto e multiplataforma, escrito na linguagem C++. Classificado como um programa de banco de dados NoSQL, o MongoDB usa documentos semelhantes a JSON com esquemas. É desenvolvido pela MongoDB Inc. e publicado sob uma combinação da GNU Affero General Public License e Licença\n",
    "Apache. Os itens não são relacionados, obrigatoriamente, e sua hierarquia é totalmente flexível. Por conta de seu banco de dados NoSQL, as informações são armazenadas nas coleções e documentos. As coleções são subpartes do banco geral, independentes."
   ]
  },
  {
   "cell_type": "code",
   "execution_count": null,
   "metadata": {},
   "outputs": [],
   "source": []
  }
 ],
 "metadata": {
  "kernelspec": {
   "display_name": "Python 3",
   "language": "python",
   "name": "python3"
  },
  "language_info": {
   "codemirror_mode": {
    "name": "ipython",
    "version": 3
   },
   "file_extension": ".py",
   "mimetype": "text/x-python",
   "name": "python",
   "nbconvert_exporter": "python",
   "pygments_lexer": "ipython3",
   "version": "3.8.3"
  }
 },
 "nbformat": 4,
 "nbformat_minor": 4
}
