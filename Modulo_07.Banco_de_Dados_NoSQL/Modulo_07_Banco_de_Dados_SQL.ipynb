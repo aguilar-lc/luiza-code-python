{
 "cells": [
  {
   "cell_type": "markdown",
   "metadata": {},
   "source": [
    "## Módulo 7 - Banco de Dados SQL\n",
    "\n",
    "### Conceitos Básicos\n",
    "\n",
    "#### Bancos de Dados\n",
    "Um banco de dados é uma coleção organizada de informações - ou dados - estruturadas, normalmente armazenadas eletronicamente em um sistema de computador. Um banco de dados é geralmente controlado por um sistema de gerenciamento de banco de dados (SGBD)\n",
    "\n",
    "#### SGBD - Sistema de Gerenciamento de Banco de Dados\n",
    "Um SGBD é um software responsável por tornar o banco de dados gerenciável permitindo que ele seja manipulado. Ele ainda não é o software que vai ser utilizado pelo usuário final e sim o que o DBA ou Database Administrator irá utilizar. Um SGBD facilita o processo de definir, construir, manipular e compartilhar bancos de dados entre vários usuários e aplicações.\n",
    "\n",
    "- Oracle\n",
    "- MySQL\n",
    "- SQL Server\n",
    "- PostgreSQL\n",
    "- MongoDB\n",
    "\n",
    "\n",
    "#### SQL\n",
    "SQL é uma abreviação para Structured Query Language, ou linguagem de consulta estruturada, em Português. Ela surgiu na década de 1970, na International Business Machines Corporation (IBM) e trata-se de uma uma linguagem padrão para trabalhar com bancos de dados relacionais.\n",
    "A linguagem SQL é utilizada de maneira relativamente parecida entre os principais bancos de dados relacionais do mercado: Oracle, MySQL, MariaDB, PostgreSQL, Microsoft SQL Server, entre muitos outros. Cada um tem suas características, sendo o MySQL e o PostgreSQL extremamente populares por possuírem versões gratuitas e de código aberto.\n",
    "\n",
    "#### Banco de Dados Relacionais\n",
    "Um banco de dados relacional é uma coleção de itens de dados com relacionamentos predefinidos entre si. Esses itens são organizados como um conjunto de tabelas com colunas e linhas. As tabelas são usadas para reter informações sobre os objetos a serem representados no banco de dados.\n",
    "\n",
    "#### Modelogagem de Banco de Dados\n",
    "\n",
    "##### - Diagrama de Entidade-Relacionamento:\n",
    "São diagramas que representam a estrutura do banco de dados, são utilizados para projetar os esquemas das tabelas e suas ligações;\n",
    "\n",
    "##### - Tipos de Dados:\n",
    "Descrição de alto nível (com estrutura e operações abstratas) do algoritmo:\n",
    "\n",
    "- bigint (int8): inteiro de oito bytes;\n",
    "- bigserial (serial8): inteiro de oito bytes de autoincremento;\n",
    "- boolean (bool): lógica booleana (verdadeiro/falso);\n",
    "- character (char [(n)]): cadeia de caracteres de comprimento fixo;\n",
    "- character (varying (varchar [(n)]): cadeia de caracteres de comprimento variável;\n",
    "- date data do calendário: (ano, mês, dia);\n",
    "- integer (int,int4): inteiro de quatro bytes assinado;\n",
    "- numeric (decimal): numérico exato de precisão\n",
    "\n",
    "#### Grupo de Instruções SQL\n",
    "\n",
    "    1° Grupo: DQL - Data Query Language (Linguagem de Consulta de Dados)\n",
    "        Comando: Select - Seleciona todos os registros de uma tabela ou partes específicas que se deseja trabalhar.\n",
    "        \n",
    "    2º Grupo: DML - Data Manipulation Language (Linguagem de Manipulação de Dados)\n",
    "        Comandos: Insert - Insere registros\n",
    "                  Update - Atualiza registros já inseridos\n",
    "                  Delete - Deleta registros\n",
    "                 \n",
    "    3º Grupo: DDL - Data Definition Language (Linguagem de Definição de Dados)\n",
    "        Comandos: Creat - Cria objeto(tabela)\n",
    "                  Alter - Altera objeto(tabela)\n",
    "                  Drop - Detela objeto(tabela)\n",
    "    \n",
    "    4º Grupo: DCL - Data Control Language (Linguagem de Controle de Dados)\n",
    "        Comandos: Grant - Concede acesso\n",
    "                  Revoke - Remove acesso\n",
    "     \n",
    "    5º Grupo: DTL - Data Transaction Language (Linguagem de Transição de Dados)\n",
    "        Comandos: Commit - Gravar(no final)\n",
    "                  Rolback - Voltar antes de qualquer altereação no banco\n",
    "\n",
    "\n",
    "#### Constraints\n",
    "\n",
    "Constraints são objetos usados com a finalidade de estabelecer regras referentes à integridade e à consistência nas colunas das tabelas pertencentes a um sistema de banco de dados. Isso é importante porque para planejar e criar tabelas devemos garantir a integridade dos dados presentes nas colunas e identificar os valores válidos para tais dados.\n",
    "\n",
    "##### - Primary Key:\n",
    "PRIMARY KEY é uma restrição que identifica exclusivamente cada registro em uma tabela. As chaves primárias devem conter valores únicos e não podem conter valores NULL. Uma tabela pode ter apenas UMA chave primária e, na tabela, essa chave\n",
    "primária pode consistir em uma ou várias colunas (campos)."
   ]
  },
  {
   "cell_type": "code",
   "execution_count": null,
   "metadata": {},
   "outputs": [],
   "source": [
    "Exemplo Primary Key:\n",
    "\n",
    "CREATE TABLE TABLE1 (\n",
    "    column_1 data_type PRIMARY KEY ,\n",
    "    column_2 data_type,\n",
    "    …\n",
    ");"
   ]
  },
  {
   "cell_type": "markdown",
   "metadata": {},
   "source": [
    "##### - Defalt:\n",
    "A constraint DEFAULT é utilizada para inserirmos um valor padrão em uma coluna. Esse valor padrão é inserido automaticamente nos registros se nenhum valor for especificado para a coluna em questão."
   ]
  },
  {
   "cell_type": "code",
   "execution_count": null,
   "metadata": {},
   "outputs": [],
   "source": [
    "Exemplo Defalt:\n",
    "\n",
    "CREATE TABLE TABLE1 (\n",
    "    column_1 data_type PRIMARY KEY ,\n",
    "    column_2 data_type DEFAULT True,\n",
    "    …\n",
    ");"
   ]
  },
  {
   "cell_type": "markdown",
   "metadata": {},
   "source": [
    "#### - Not null:\n",
    "A restrição NOT NULL garante que uma coluna não admita valores NULL. Isto significa que será abortada uma operação de INSERT ou UPDATE que coloquem valor NULL nessa coluna."
   ]
  },
  {
   "cell_type": "code",
   "execution_count": null,
   "metadata": {},
   "outputs": [],
   "source": [
    "Exemplo Not null:\n",
    "\n",
    "CREATE TABLE TABLE1 (\n",
    "    column_1 data_type PRIMARY KEY ,\n",
    "    column_2 data_type DEFAULT NOT NULL,\n",
    "    …\n",
    ");"
   ]
  },
  {
   "cell_type": "markdown",
   "metadata": {},
   "source": [
    "#### - Unique:\n",
    "A constraint UNIQUE impede que valores duplicados sejam inseridos na coluna. É implementada criando-se um índice unívoco em uma coluna."
   ]
  },
  {
   "cell_type": "code",
   "execution_count": null,
   "metadata": {},
   "outputs": [],
   "source": [
    "Exemplo Unique:\n",
    "\n",
    "CREATE TABLE TABLE1 (\n",
    "    column_1 data_type PRIMARY KEY ,\n",
    "    column_2 data_type DEFAULT NOT NULL,\n",
    "    column_3 data_type,\n",
    "    CONSTRAINT column_3_uq UNIQUE (column_3)\n",
    ");"
   ]
  },
  {
   "cell_type": "markdown",
   "metadata": {},
   "source": [
    "#### - Foreign Key:\n",
    "A FOREIGN KEY é usada para evitar ações que destruam links entre tabelas. Trata-se de um campo (ou coleção de campos) em uma tabela, que se refere a PRIMARY KEY em outra tabela.\n",
    "A tabela com a chave estrangeira é chamada de tabela filha e a tabela com a chave primária é chamada de tabela referenciada ou pai."
   ]
  },
  {
   "cell_type": "code",
   "execution_count": null,
   "metadata": {},
   "outputs": [],
   "source": [
    "Exemplo Foreign Key:\n",
    "\n",
    "CREATE TABLE address(\n",
    "    id serial,\n",
    "    street char(45),\n",
    "    cep char(8),\n",
    "    district char(45),\n",
    "    city char(45),\n",
    "    state char(24),\n",
    "    is_delivery boolean default true,\n",
    "    constraint address_pkey primary key(id),\n",
    "    constraint fk_user foreign key(id) references users(id)\n",
    ");"
   ]
  },
  {
   "cell_type": "markdown",
   "metadata": {},
   "source": [
    "#### Relacionamento entre tabelas\n",
    "\n",
    "Relacionamento um para um:\n",
    "São relacionamentos em que uma ocorrência de uma entidade em A está associada no máximo a uma ocorrência em uma entidade B e uma ocorrência na entidade B está associada no máximo a uma ocorrência na entidade A.\n",
    "\n",
    "Relacionamento um para muitos:\n",
    "São relacionamentos em que uma ocorrência de uma entidade em A está associada mais de uma ocorrência em uma entidade B e uma ocorrência na entidade B está associada a mais de uma ocorrência na entidade A.\n",
    "\n",
    "#### Comandos SQL\n",
    "\n",
    "- CREAT TABLE - A instrução CREATE TABLE é usada para criar uma nova tabela em um banco de dados;\n",
    "\n",
    "\n",
    "- DROP TABLE - A instrução DROP TABLE é usada para excluir uma tabela em um banco de dados;\n",
    "\n",
    "\n",
    "- ALTER TABLE - A instrução ALTER TABLE é usada para adicionar, excluir ou modificar colunas em uma tabela existente;\n",
    "\n",
    "\n",
    "- INSERT INTO - A instrução INSERT INTO é usada para inserir novos registros em uma tabela;\n",
    "\n",
    "\n",
    "- UPDATE A instrução UPDATE é usada para modificar os registros existentes em uma tabela\n",
    "    - É extremamente importante ter cuidado ao atualizar registros em uma tabela! Observe sempre a cláusula WHERE declaração. Ela especifica quais registros devem ser atualizados. Se você omitir essa cláusula, todos os registros da tabela serão atualizados!\n",
    "    \n",
    "    \n",
    "- DELETE - A instrução DELETE é usada para excluir registros existentes em uma tabela\n",
    "    - Para esse instrução também é muito importante ter cuidado com a cláusula WHERE. Caso contrário registros que não deveriam ser apagados podem ser impactados!\n",
    "    \n",
    "    \n",
    "- SELECT - A cláusula SELECT é usada para selecionar dados de um banco de dados;\n",
    "\n",
    "\n",
    "- JOIN - A cláusula JOIN é usada para combinar linhas de duas ou mais tabelas, com base em uma coluna relacionada entre elas. \n",
    "\n",
    "- WHERE - A cláusula WHERE é usada para filtrar registros.\n",
    "\n",
    "\n",
    "- ORDER BY - A palavra-chave ORDER BY é usada para classificar o conjunto de resultados em ordem crescente ou decrescente.\n",
    "\n",
    "\n",
    "- GROUP BY - A instrução GROUP BY agrupa as linhas que têm os mesmos valores em linhas de resumo;\n",
    "\n",
    "\n",
    "- COUNT, AVG e SUM:\n",
    "- A função COUNT retorna o número de linhas que corresponde a um critério especificado;\n",
    "- A função AVG retorna o valor médio de uma coluna numérica.\n",
    "- A função SUM retorna a soma total de uma coluna numérica.\n",
    "\n",
    "\n",
    "- MIN E MAX\n",
    "- A função MIN retorna o menor valor da coluna selecionada.\n",
    "- A função MAX retorna o maior valor da coluna selecionada.\n",
    "\n",
    "\n",
    "- LIKE\n",
    "O operador LIKE é usado em uma cláusula WHERE para procurar um padrão especificado em uma coluna. Existem dois curingas frequentemente usados em conjunto com o operador:\n",
    "    ● O sinal de porcentagem (%) representa zero, um ou vários caracteres\n",
    "    ● O sinal de sublinhado (_) representa um único caractere"
   ]
  }
 ],
 "metadata": {
  "kernelspec": {
   "display_name": "Python 3",
   "language": "python",
   "name": "python3"
  },
  "language_info": {
   "codemirror_mode": {
    "name": "ipython",
    "version": 3
   },
   "file_extension": ".py",
   "mimetype": "text/x-python",
   "name": "python",
   "nbconvert_exporter": "python",
   "pygments_lexer": "ipython3",
   "version": "3.8.3"
  }
 },
 "nbformat": 4,
 "nbformat_minor": 4
}
